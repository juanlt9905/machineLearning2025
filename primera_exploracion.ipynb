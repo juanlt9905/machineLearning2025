{
 "cells": [
  {
   "cell_type": "code",
   "execution_count": null,
   "metadata": {},
   "outputs": [],
   "source": [
    "import pandas as pd\n",
    "import numpy as np\n",
    "import os"
   ]
  },
  {
   "cell_type": "code",
   "execution_count": null,
   "metadata": {},
   "outputs": [],
   "source": [
    "#Datos de diabetes\n",
    "\n",
    "datos = pd.read_csv('/home/juan/machineLearning2025/datasets/diabetes_012_health_indicators_BRFSS2015.csv')\n",
    "\n",
    "datos"
   ]
  },
  {
   "cell_type": "code",
   "execution_count": null,
   "metadata": {},
   "outputs": [],
   "source": [
    "datos.describe()\n"
   ]
  },
  {
   "cell_type": "code",
   "execution_count": null,
   "metadata": {},
   "outputs": [],
   "source": [
    "#datos.shape\n",
    "\n",
    "datos.columns.values"
   ]
  },
  {
   "cell_type": "markdown",
   "metadata": {},
   "source": [
    "INFORMACION DE LAS COLUMNAS:'\n",
    "\n",
    "HighBP-> Hipertension\n",
    "\n",
    "HighChol -> COlesterol alto\n",
    "\n",
    "CholCheck-> Chequeo de colesterol los ultimos 5 a;os\n",
    "\n",
    "BMI -> Indice de masa corporal\n",
    "\n",
    "Smoker ->Ha fumado al menos 100 cigarrros en su vida\n",
    "\n",
    "Stroke -> Derrame cerebral\n",
    "\n",
    "HeartDiseaseorAttack -> infarto coronario o infarto al miocardio\n",
    "\n",
    "PhysActivity -> Actividad fisica los ultimos 30 dias\n",
    "\n",
    "Fruits -> Consume al menos 1 fruta al dia\n",
    "\n",
    "Veggies -> Consume vegetales al menos 1 vez al dia\n",
    "\n",
    "HvyAlcoholConsump -> Hombres que toman mas de 14 bebidas alcoholicas por semana, mujeres mas de 7\n",
    "\n",
    "AnyHealthcare-> Tiene algun seguro medico\n",
    "\n",
    "NoDocbcCost-> En el ultimo a;o, no visito a un doctor debido a no poder costear los servicios medicos.\n",
    "\n",
    "GenHlth -> OPinion de salud general, tu salud general es? Escala 1-5.\n",
    "\n",
    "MentHlth -> Por cuantos dias durante el ultimo mes (1-30) no tuviste una salud buena?\n",
    "\n",
    "PhysHlth -> Por cuantos dias durante el ultimo mes (1-30) tu salud no fue buena?\n",
    "\n",
    "DiffWalk -> TIenes dificultades para caminar o subir escaleras?\n",
    "\n",
    "Sex -> 0=Femenino, 1= Masculino\n",
    "\n",
    "Age ->  escala del 1-13, 1= 18-24, 9=60-64, 13=80 o mayores\n",
    "\n",
    "Education -> escala del 1-6, 1=nunca fue a la escuela o solo kinder, 2=grados 1-8, 3= grados 9-11, 4= grado 12 o graduados de HIgh school, 5= 1-3 de universidad, 6= 4 o mas a;os de universidad\n",
    "\n",
    "Income -> escala 1-8 1= menos de 10,000, 5= menos de 35,000, 8=75,000 o mas"
   ]
  },
  {
   "cell_type": "code",
   "execution_count": null,
   "metadata": {},
   "outputs": [],
   "source": [
    "datos.dtypes"
   ]
  },
  {
   "cell_type": "code",
   "execution_count": null,
   "metadata": {},
   "outputs": [],
   "source": [
    "#DEfinicion de datos enteros\n",
    "datos[['Diabetes_012', 'GenHlth', 'MentHlth', 'PhysHlth', 'BMI', 'Age', 'Education', 'Income' ]] = datos[['Diabetes_012', 'GenHlth', 'MentHlth', 'PhysHlth', 'BMI', 'Age', 'Education', 'Income']].astype(int)\n",
    "\n",
    "for col in datos.columns:\n",
    "    if datos[col].dtype == 'float64':\n",
    "        datos[col] = datos[col].astype(bool)\n",
    "\n",
    "\n"
   ]
  },
  {
   "cell_type": "code",
   "execution_count": null,
   "metadata": {},
   "outputs": [],
   "source": [
    "datos.dtypes\n",
    "datos"
   ]
  },
  {
   "cell_type": "code",
   "execution_count": null,
   "metadata": {},
   "outputs": [],
   "source": [
    "datos.drop_duplicates(inplace=True)\n",
    "# mostrar información del DataFrame\n",
    "def info(df):\n",
    "    print('Duplicated: ',df.duplicated().sum())\n",
    "    print('Null values %:')\n",
    "    print(100*df.isnull().sum()/len(df))\n",
    "\n",
    "info(datos)"
   ]
  },
  {
   "cell_type": "code",
   "execution_count": null,
   "metadata": {},
   "outputs": [],
   "source": [
    "datos['Diabetes_012'] = datos['Diabetes_012'].replace(2,1)"
   ]
  },
  {
   "cell_type": "code",
   "execution_count": null,
   "metadata": {},
   "outputs": [],
   "source": [
    "datos.describe()"
   ]
  },
  {
   "cell_type": "code",
   "execution_count": null,
   "metadata": {},
   "outputs": [],
   "source": [
    "porcentaje = 100*datos['Diabetes_012'].value_counts()/len(datos)\n",
    "print(porcentaje.astype(str) + '%')"
   ]
  },
  {
   "cell_type": "markdown",
   "metadata": {},
   "source": [
    "Necesita un balanceo de clases\n"
   ]
  },
  {
   "cell_type": "code",
   "execution_count": null,
   "metadata": {},
   "outputs": [],
   "source": [
    "import matplotlib.pyplot as plt\n",
    "import numpy as np\n",
    "import math\n",
    "\n",
    "import seaborn as sns \n",
    "import pandas as pd\n",
    "\n",
    "from sklearn.model_selection import train_test_split\n",
    "from sklearn.linear_model import LogisticRegression # Importamos la clase de Regresión Lineal de scikit-learn\n",
    "#from sklearn.metrics import mean_squared_error, r2_score, mean_absolute_error# error\n",
    "#from sklearn import metrics\n",
    "\n",
    "#from sklearn.model_selection import GridSearchCV"
   ]
  },
  {
   "cell_type": "code",
   "execution_count": null,
   "metadata": {},
   "outputs": [],
   "source": [
    "#Usando regresion logistica\n",
    "\n",
    "features = datos.drop(columns=['Diabetes_012'])\n",
    "target = datos['Diabetes_012']"
   ]
  },
  {
   "cell_type": "code",
   "execution_count": null,
   "metadata": {},
   "outputs": [],
   "source": [
    "X_train, X_test, y_train, y_test = train_test_split(features, target, test_size=0.25, random_state=42)"
   ]
  },
  {
   "cell_type": "code",
   "execution_count": null,
   "metadata": {},
   "outputs": [],
   "source": [
    "log_reg = LogisticRegression(max_iter=1000)\n",
    "log_reg.fit(X_train, y_train)\n",
    "y_pred = log_reg.predict(X_test)\n",
    "print('beta_0:',log_reg.intercept_)\n",
    "print('beta_1:',log_reg.coef_)"
   ]
  },
  {
   "cell_type": "code",
   "execution_count": null,
   "metadata": {},
   "outputs": [],
   "source": [
    "#PRUEBA ANTES DE BALANCEAR\n",
    "from sklearn.metrics import mean_squared_error, r2_score, mean_absolute_error# error\n",
    "# Error Cuadrado Medio\n",
    "mse = mean_squared_error(y_test, y_pred)\n",
    "# La raíz cuadrada del MSE es el RMSE \n",
    "rmse = np.sqrt(mse)\n",
    "# Coeficiente de determinación R2\n",
    "r2 = r2_score(y_test, y_pred)\n",
    "# Error absoluto medio\n",
    "mae = mean_absolute_error(y_test, y_pred)**0.5\n",
    "\n",
    "\n",
    "print('Error Cuadrático Medio (MSE) = ' + str(mse))\n",
    "print('Raíz del Error Cuadrático Medio (RMSE) = ' + str(rmse))\n",
    "print('Coeficiente de Determinación R2 = ' + str(r2))\n",
    "print('Error Absoluto Medio (MAE) = ' + str(mae))"
   ]
  }
 ],
 "metadata": {
  "kernelspec": {
   "display_name": "py310",
   "language": "python",
   "name": "python3"
  },
  "language_info": {
   "codemirror_mode": {
    "name": "ipython",
    "version": 3
   },
   "file_extension": ".py",
   "mimetype": "text/x-python",
   "name": "python",
   "nbconvert_exporter": "python",
   "pygments_lexer": "ipython3",
   "version": "3.10.16"
  }
 },
 "nbformat": 4,
 "nbformat_minor": 2
}
